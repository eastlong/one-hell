{
 "cells": [
  {
   "cell_type": "markdown",
   "id": "a92e02d0-2545-41ad-a5f9-6585578cae0f",
   "metadata": {},
   "source": [
    "## 标量\n",
    "标量由只有一个元素的张量表示。 下面的代码将实例化两个标量，并执行一些熟悉的算术运算，即加法、乘法、除法和指数。"
   ]
  },
  {
   "cell_type": "code",
   "execution_count": 1,
   "id": "63e51b90-a496-469c-bbd6-ce9b788fd14e",
   "metadata": {},
   "outputs": [
    {
     "data": {
      "text/plain": [
       "(tensor(5.), tensor(6.), tensor(1.5000), tensor(9.))"
      ]
     },
     "execution_count": 1,
     "metadata": {},
     "output_type": "execute_result"
    }
   ],
   "source": [
    "import torch\n",
    "\n",
    "x = torch.tensor(3.0)\n",
    "y = torch.tensor(2.0)\n",
    "\n",
    "x + y, x * y, x / y, x**y"
   ]
  },
  {
   "cell_type": "markdown",
   "id": "8eb5b9c4-241f-4377-8e02-8ae7a47a32e8",
   "metadata": {},
   "source": [
    "##  向量\n",
    "向量可以被视为标量值组成的列表。 这些标量值被称为向量的元素（element）或分量（component）。 "
   ]
  },
  {
   "cell_type": "code",
   "execution_count": 3,
   "id": "ff453931-c9f4-4884-8710-a66a539cb2bb",
   "metadata": {},
   "outputs": [
    {
     "data": {
      "text/plain": [
       "tensor([0, 1, 2, 3])"
      ]
     },
     "execution_count": 3,
     "metadata": {},
     "output_type": "execute_result"
    }
   ],
   "source": [
    "x = torch.arange(4)\n",
    "x"
   ]
  },
  {
   "cell_type": "code",
   "execution_count": 4,
   "id": "0543062f-e368-4998-b44e-ed11c7839122",
   "metadata": {},
   "outputs": [
    {
     "data": {
      "text/plain": [
       "tensor(3)"
      ]
     },
     "execution_count": 4,
     "metadata": {},
     "output_type": "execute_result"
    }
   ],
   "source": [
    "x[3]"
   ]
  },
  {
   "cell_type": "markdown",
   "id": "d48fd807-b4d1-4729-95af-0417579b7016",
   "metadata": {},
   "source": [
    "### 长度、维度和形状\n",
    "向量只是一个数字数组，就像每个数组都有一个长度一样，每个向量也是如此。"
   ]
  },
  {
   "cell_type": "code",
   "execution_count": 7,
   "id": "cd792661-1862-4c41-bb10-3609a330b28b",
   "metadata": {},
   "outputs": [
    {
     "data": {
      "text/plain": [
       "4"
      ]
     },
     "execution_count": 7,
     "metadata": {},
     "output_type": "execute_result"
    }
   ],
   "source": [
    "# len()函数来访问张量的长度。\n",
    "len(x)"
   ]
  },
  {
   "cell_type": "code",
   "execution_count": 8,
   "id": "35fc9fed-e3bc-4f96-a025-7ca117c8af9a",
   "metadata": {},
   "outputs": [
    {
     "data": {
      "text/plain": [
       "torch.Size([4])"
      ]
     },
     "execution_count": 8,
     "metadata": {},
     "output_type": "execute_result"
    }
   ],
   "source": [
    "# 通过.shape属性访问向量的长度。\n",
    "x.shape"
   ]
  },
  {
   "cell_type": "markdown",
   "id": "e42b0244-1821-4cfe-a283-91720f837e88",
   "metadata": {},
   "source": [
    "## 矩阵\n",
    "正如向量将标量从零阶推广到一阶，矩阵将向量从一阶推广到二阶。"
   ]
  },
  {
   "cell_type": "code",
   "execution_count": 10,
   "id": "ce854988-6c53-4d3e-b3fd-a4916d2c5059",
   "metadata": {},
   "outputs": [
    {
     "data": {
      "text/plain": [
       "tensor([[ 0,  1,  2,  3],\n",
       "        [ 4,  5,  6,  7],\n",
       "        [ 8,  9, 10, 11],\n",
       "        [12, 13, 14, 15],\n",
       "        [16, 17, 18, 19]])"
      ]
     },
     "execution_count": 10,
     "metadata": {},
     "output_type": "execute_result"
    }
   ],
   "source": [
    "A = torch.arange(20).reshape(5, 4)\n",
    "A"
   ]
  },
  {
   "cell_type": "code",
   "execution_count": 11,
   "id": "a05dfada-c165-4b4d-9a17-a2ec3f4d4432",
   "metadata": {},
   "outputs": [
    {
     "data": {
      "text/plain": [
       "tensor([[ 0,  4,  8, 12, 16],\n",
       "        [ 1,  5,  9, 13, 17],\n",
       "        [ 2,  6, 10, 14, 18],\n",
       "        [ 3,  7, 11, 15, 19]])"
      ]
     },
     "execution_count": 11,
     "metadata": {},
     "output_type": "execute_result"
    }
   ],
   "source": [
    "# 矩阵的转置。\n",
    "A.T"
   ]
  },
  {
   "cell_type": "code",
   "execution_count": 12,
   "id": "c51662b2-4664-4e67-822e-de455af73dbb",
   "metadata": {},
   "outputs": [
    {
     "data": {
      "text/plain": [
       "tensor([[1, 2, 3],\n",
       "        [2, 0, 4],\n",
       "        [3, 4, 5]])"
      ]
     },
     "execution_count": 12,
     "metadata": {},
     "output_type": "execute_result"
    }
   ],
   "source": [
    "B = torch.tensor([[1, 2, 3], [2, 0, 4], [3, 4, 5]])\n",
    "B"
   ]
  },
  {
   "cell_type": "code",
   "execution_count": 13,
   "id": "1588798f-e1cd-4393-aaa4-a2db78147656",
   "metadata": {},
   "outputs": [
    {
     "data": {
      "text/plain": [
       "tensor([[True, True, True],\n",
       "        [True, True, True],\n",
       "        [True, True, True]])"
      ]
     },
     "execution_count": 13,
     "metadata": {},
     "output_type": "execute_result"
    }
   ],
   "source": [
    "B == B.T "
   ]
  },
  {
   "cell_type": "markdown",
   "id": "bfaa4d67-5b23-48b2-bc6e-add3a648308c",
   "metadata": {},
   "source": [
    "## 张量\n",
    "就像向量是标量的推广，矩阵是向量的推广一样，我们可以构建具有更多轴的数据结构。 张量（本小节中的“张量”指代数对象）是描述具有任意数量轴的\n",
    "维数组的通用方法。 例如，向量是一阶张量，矩阵是二阶张量。 \n",
    "\n",
    "当我们开始处理图像时，张量将变得更加重要，图像以\n",
    "维数组形式出现， 其中3个轴对应于高度、宽度，以及一个通道（channel）轴， 用于表示颜色通道（红色、绿色和蓝色）。"
   ]
  },
  {
   "cell_type": "code",
   "execution_count": 15,
   "id": "06372582-c8f3-4257-a106-f80802a5c5b1",
   "metadata": {},
   "outputs": [
    {
     "data": {
      "text/plain": [
       "tensor([[[ 0,  1,  2,  3],\n",
       "         [ 4,  5,  6,  7],\n",
       "         [ 8,  9, 10, 11]],\n",
       "\n",
       "        [[12, 13, 14, 15],\n",
       "         [16, 17, 18, 19],\n",
       "         [20, 21, 22, 23]]])"
      ]
     },
     "execution_count": 15,
     "metadata": {},
     "output_type": "execute_result"
    }
   ],
   "source": [
    "X = torch.arange(24).reshape(2, 3, 4)\n",
    "X"
   ]
  },
  {
   "cell_type": "markdown",
   "id": "3658aa1b-db4a-4ce3-9098-6bed6f0ef671",
   "metadata": {},
   "source": [
    "## 张量算法的基本性质\n",
    "标量、向量、矩阵和任意数量轴的张量（本小节中的“张量”指代数对象）有一些实用的属性。 例如，从按元素操作的定义中可以注意到，任何按元素的一元运算都不会改变其操作数的形状。 同样，给定具有相同形状的任意两个张量，任何按元素二元运算的结果都将是相同形状的张量。 例如，将两个相同形状的矩阵相加，会在这两个矩阵上执行元素加法。"
   ]
  },
  {
   "cell_type": "code",
   "execution_count": 17,
   "id": "ed96fad3-ad63-46fd-8000-66b57bd7a254",
   "metadata": {},
   "outputs": [
    {
     "data": {
      "text/plain": [
       "(array([[ 0,  1,  2,  3],\n",
       "        [ 4,  5,  6,  7],\n",
       "        [ 8,  9, 10, 11],\n",
       "        [12, 13, 14, 15],\n",
       "        [16, 17, 18, 19]]),\n",
       " array([[ 0,  2,  4,  6],\n",
       "        [ 8, 10, 12, 14],\n",
       "        [16, 18, 20, 22],\n",
       "        [24, 26, 28, 30],\n",
       "        [32, 34, 36, 38]]))"
      ]
     },
     "execution_count": 17,
     "metadata": {},
     "output_type": "execute_result"
    }
   ],
   "source": [
    "import numpy as np\n",
    "\n",
    "A = np.arange(20).reshape(5, 4)\n",
    "B = A.copy()\n",
    "A, A + B"
   ]
  },
  {
   "cell_type": "markdown",
   "id": "c44329ec-1d5b-45f8-afcd-3b38fdc12b83",
   "metadata": {},
   "source": [
    "具体而言，两个矩阵的按元素乘法称为Hadamard积（Hadamard product）\n",
    "\n",
    "![](./img/Snipaste_2024-04-14_16-38-05.JPG)"
   ]
  },
  {
   "cell_type": "code",
   "execution_count": 19,
   "id": "032f4d1b-4c1c-40e3-8210-78c8f62b5408",
   "metadata": {},
   "outputs": [
    {
     "data": {
      "text/plain": [
       "array([[  0,   1,   4,   9],\n",
       "       [ 16,  25,  36,  49],\n",
       "       [ 64,  81, 100, 121],\n",
       "       [144, 169, 196, 225],\n",
       "       [256, 289, 324, 361]])"
      ]
     },
     "execution_count": 19,
     "metadata": {},
     "output_type": "execute_result"
    }
   ],
   "source": [
    "A * B"
   ]
  },
  {
   "cell_type": "code",
   "execution_count": 20,
   "id": "a37ff307-6d3b-46bb-bfcf-a51aecbe7d5c",
   "metadata": {},
   "outputs": [
    {
     "data": {
      "text/plain": [
       "(array([[[ 2,  3,  4,  5],\n",
       "         [ 6,  7,  8,  9],\n",
       "         [10, 11, 12, 13]],\n",
       " \n",
       "        [[14, 15, 16, 17],\n",
       "         [18, 19, 20, 21],\n",
       "         [22, 23, 24, 25]]]),\n",
       " (2, 3, 4))"
      ]
     },
     "execution_count": 20,
     "metadata": {},
     "output_type": "execute_result"
    }
   ],
   "source": [
    "# 将张量乘以或加上一个标量不会改变张量的形状，其中张量的每个元素都将与标量相加或相乘。\n",
    "a = 2\n",
    "X = np.arange(24).reshape(2,3,4)\n",
    "a + X, (a * X).shape"
   ]
  },
  {
   "cell_type": "code",
   "execution_count": null,
   "id": "a6ec45b7-4b5a-4bf9-bb9e-f61373d0aaa4",
   "metadata": {},
   "outputs": [],
   "source": []
  }
 ],
 "metadata": {
  "kernelspec": {
   "display_name": "d2l",
   "language": "python",
   "name": "d2l"
  },
  "language_info": {
   "codemirror_mode": {
    "name": "ipython",
    "version": 3
   },
   "file_extension": ".py",
   "mimetype": "text/x-python",
   "name": "python",
   "nbconvert_exporter": "python",
   "pygments_lexer": "ipython3",
   "version": "3.9.19"
  }
 },
 "nbformat": 4,
 "nbformat_minor": 5
}
